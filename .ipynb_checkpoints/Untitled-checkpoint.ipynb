{
 "cells": [
  {
   "cell_type": "code",
   "execution_count": 1,
   "metadata": {},
   "outputs": [],
   "source": [
    "import pandas as pd"
   ]
  },
  {
   "cell_type": "code",
   "execution_count": 2,
   "metadata": {},
   "outputs": [],
   "source": [
    "import json\n",
    "from pandas.io.json import json_normalize"
   ]
  },
  {
   "cell_type": "code",
   "execution_count": 3,
   "metadata": {},
   "outputs": [],
   "source": [
    "#reading and storing json file\n",
    "data = pd.read_json('world_bank_projects.json')\n"
   ]
  },
  {
   "cell_type": "code",
   "execution_count": 4,
   "metadata": {},
   "outputs": [],
   "source": [
    "#grouping countrynames\n",
    "by_country = data.groupby('countryname')"
   ]
  },
  {
   "cell_type": "code",
   "execution_count": 5,
   "metadata": {},
   "outputs": [],
   "source": [
    "\n",
    "count_by_project = by_country['project_name'].count()"
   ]
  },
  {
   "cell_type": "code",
   "execution_count": 6,
   "metadata": {},
   "outputs": [
    {
     "name": "stdout",
     "output_type": "stream",
     "text": [
      "countryname\n",
      "People's Republic of China         19\n",
      "Republic of Indonesia              19\n",
      "Socialist Republic of Vietnam      17\n",
      "Republic of India                  16\n",
      "Republic of Yemen                  13\n",
      "Nepal                              12\n",
      "People's Republic of Bangladesh    12\n",
      "Kingdom of Morocco                 12\n",
      "Africa                             11\n",
      "Republic of Mozambique             11\n",
      "Name: project_name, dtype: int64\n"
     ]
    }
   ],
   "source": [
    "#display the count of country projects based on country name\n",
    "print(count_by_project.sort_values(ascending=False).head(10))"
   ]
  },
  {
   "cell_type": "code",
   "execution_count": 7,
   "metadata": {},
   "outputs": [],
   "source": [
    "string_data = json.load(open('world_bank_projects.json'))\n"
   ]
  },
  {
   "cell_type": "code",
   "execution_count": 8,
   "metadata": {
    "scrolled": true
   },
   "outputs": [
    {
     "data": {
      "text/plain": [
       "code  name                                        \n",
       "11    Environment and natural resources management    223\n",
       "10    Rural development                               202\n",
       "8     Human development                               197\n",
       "2     Public sector governance                        184\n",
       "6     Social protection and risk management           158\n",
       "4     Financial and private sector development        130\n",
       "7     Social dev/gender/inclusion                     119\n",
       "5     Trade and integration                            72\n",
       "9     Urban development                                47\n",
       "1     Economic management                              33\n",
       "Name: name, dtype: int64"
      ]
     },
     "execution_count": 8,
     "metadata": {},
     "output_type": "execute_result"
    }
   ],
   "source": [
    "#normaizing json data and grouping and counting the values by name. \n",
    "normalized_data = json_normalize(string_data, 'mjtheme_namecode')\n",
    "normalized_data.groupby('code')['name'].value_counts().sort_values(ascending=False).head(10)"
   ]
  },
  {
   "cell_type": "code",
   "execution_count": 9,
   "metadata": {},
   "outputs": [],
   "source": [
    "#sorting values by the code number\n",
    "normalized_sorted = normalized_data.sort_values('code')"
   ]
  },
  {
   "cell_type": "code",
   "execution_count": 10,
   "metadata": {},
   "outputs": [],
   "source": [
    "#replacing name of project when blank\n",
    "normalized_sorted['name'].replace('',inplace=True)"
   ]
  },
  {
   "cell_type": "code",
   "execution_count": 11,
   "metadata": {},
   "outputs": [
    {
     "data": {
      "text/plain": [
       "code  name                                        \n",
       "11    Environment and natural resources management    250\n",
       "10    Rural development                               216\n",
       "8     Human development                               210\n",
       "2     Public sector governance                        199\n",
       "6     Social protection and risk management           168\n",
       "4     Financial and private sector development        146\n",
       "7     Social dev/gender/inclusion                     130\n",
       "5     Trade and integration                            77\n",
       "9     Urban development                                50\n",
       "1     Economic management                              38\n",
       "Name: name, dtype: int64"
      ]
     },
     "execution_count": 11,
     "metadata": {},
     "output_type": "execute_result"
    }
   ],
   "source": [
    "#sorting projects by name and counting how many times it is in and sorting in decending order\n",
    "normalized_sorted.groupby('code')['name'].value_counts().sort_values(ascending=False).head(10)"
   ]
  },
  {
   "cell_type": "code",
   "execution_count": null,
   "metadata": {},
   "outputs": [],
   "source": []
  },
  {
   "cell_type": "code",
   "execution_count": null,
   "metadata": {},
   "outputs": [],
   "source": []
  },
  {
   "cell_type": "code",
   "execution_count": null,
   "metadata": {},
   "outputs": [],
   "source": []
  },
  {
   "cell_type": "code",
   "execution_count": null,
   "metadata": {},
   "outputs": [],
   "source": []
  }
 ],
 "metadata": {
  "kernelspec": {
   "display_name": "Python 3",
   "language": "python",
   "name": "python3"
  },
  "language_info": {
   "codemirror_mode": {
    "name": "ipython",
    "version": 3
   },
   "file_extension": ".py",
   "mimetype": "text/x-python",
   "name": "python",
   "nbconvert_exporter": "python",
   "pygments_lexer": "ipython3",
   "version": "3.6.5"
  }
 },
 "nbformat": 4,
 "nbformat_minor": 2
}
